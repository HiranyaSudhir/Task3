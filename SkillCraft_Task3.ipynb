{
  "nbformat": 4,
  "nbformat_minor": 0,
  "metadata": {
    "colab": {
      "provenance": []
    },
    "kernelspec": {
      "name": "python3",
      "display_name": "Python 3"
    },
    "language_info": {
      "name": "python"
    }
  },
  "cells": [
    {
      "cell_type": "code",
      "source": [
        "!pip install -q kagglehub opendatasets\n",
        "import kagglehub\n",
        "import os\n",
        "import cv2\n",
        "import numpy as np\n",
        "from sklearn.model_selection import train_test_split\n",
        "from sklearn.svm import SVC\n",
        "from sklearn.metrics import classification_report, accuracy_score\n",
        "import matplotlib.pyplot as plt\n",
        "\n",
        "# Download the dataset\n",
        "path = kagglehub.dataset_download(\"bhavikjikadara/dog-and-cat-classification-dataset\")\n",
        "print(\"Dataset path:\", path)\n",
        "\n",
        "# OPTIONAL: Print folder structure\n",
        "for root, dirs, files in os.walk(path):\n",
        "    print(\"DIR:\", root)\n",
        "    for f in files[:3]:  # just print few\n",
        "        print(\"   FILE:\", f)\n",
        "\n",
        "# Load function\n",
        "def load_images_from_folder(folder, label, img_size=(64, 64)):\n",
        "    images = []\n",
        "    labels = []\n",
        "    for filename in os.listdir(folder):\n",
        "        if filename.endswith(\".jpg\") or filename.endswith(\".png\"):\n",
        "            img_path = os.path.join(folder, filename)\n",
        "            img = cv2.imread(img_path, cv2.IMREAD_GRAYSCALE)\n",
        "            if img is not None:\n",
        "                img = cv2.resize(img, img_size)\n",
        "                images.append(img.flatten())\n",
        "                labels.append(label)\n",
        "    return images, labels\n",
        "\n",
        "# ✅ Use correct sub-paths (adjust based on structure you printed above)\n",
        "cat_folder = os.path.join(path, \"PetImages/Cat\")\n",
        "dog_folder = os.path.join(path, \"PetImages/Dog\")\n",
        "\n",
        "\n",
        "cat_images, cat_labels = load_images_from_folder(cat_folder, 0)\n",
        "dog_images, dog_labels = load_images_from_folder(dog_folder, 1)\n",
        "\n",
        "print(f\"Loaded cat images: {len(cat_images)}\")\n",
        "print(f\"Loaded dog images: {len(dog_images)}\")\n",
        "\n",
        "# Dataset\n",
        "X = np.array(cat_images + dog_images)\n",
        "y = np.array(cat_labels + dog_labels)\n",
        "\n",
        "print(\"Total samples:\", len(X))\n",
        "\n",
        "# Train/test split\n",
        "X_train, X_test, y_train, y_test = train_test_split(X, y, test_size=0.2, random_state=42)\n",
        "\n",
        "# Train SVM\n",
        "svm = SVC(kernel='linear')\n",
        "svm.fit(X_train, y_train)\n",
        "\n",
        "# Evaluate\n",
        "y_pred = svm.predict(X_test)\n",
        "print(\"Accuracy:\", accuracy_score(y_test, y_pred))\n",
        "print(classification_report(y_test, y_pred))\n"
      ],
      "metadata": {
        "colab": {
          "base_uri": "https://localhost:8080/"
        },
        "id": "DGsqphdP3JTa",
        "outputId": "1ca471b9-0790-42d8-adef-01cc8674170b"
      },
      "execution_count": null,
      "outputs": [
        {
          "metadata": {
            "tags": null
          },
          "name": "stdout",
          "output_type": "stream",
          "text": [
            "Dataset path: /kaggle/input/dog-and-cat-classification-dataset\n",
            "DIR: /kaggle/input/dog-and-cat-classification-dataset\n",
            "DIR: /kaggle/input/dog-and-cat-classification-dataset/PetImages\n",
            "DIR: /kaggle/input/dog-and-cat-classification-dataset/PetImages/Dog\n",
            "   FILE: 7981.jpg\n",
            "   FILE: 6234.jpg\n",
            "   FILE: 1269.jpg\n",
            "DIR: /kaggle/input/dog-and-cat-classification-dataset/PetImages/Cat\n",
            "   FILE: 7981.jpg\n",
            "   FILE: 6234.jpg\n",
            "   FILE: 1269.jpg\n",
            "Loaded cat images: 12498\n",
            "Loaded dog images: 12499\n",
            "Total samples: 24997\n"
          ]
        }
      ]
    }
  ]
}